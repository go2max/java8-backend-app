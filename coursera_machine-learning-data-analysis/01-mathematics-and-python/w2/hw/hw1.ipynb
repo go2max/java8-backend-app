{
 "cells": [
  {
   "cell_type": "markdown",
   "metadata": {},
   "source": [
    "Задача 1: сравнение предложений\n",
    "\n",
    "Дан набор предложений, скопированных с Википедии. Каждое из них имеет \"кошачью тему\" в одном из трех смыслов:\n",
    "\n",
    "    кошки (животные)\n",
    "    UNIX-утилита cat для вывода содержимого файлов\n",
    "    версии операционной системы OS X, названные в честь семейства кошачьих\n",
    "\n",
    "Ваша задача — найти два предложения, которые ближе всего по смыслу к расположенному в самой первой строке. В качестве меры близости по смыслу мы будем использовать косинусное расстояние.\n",
    "sentences.txt\n",
    "\n",
    "Выполните следующие шаги:\n",
    "\n",
    "    Скачайте файл с предложениями (sentences.txt).\n",
    "    Каждая строка в файле соответствует одному предложению. Считайте их, приведите каждую к нижнему регистру с помощью строковой функции lower().\n",
    "    Произведите токенизацию, то есть разбиение текстов на слова. Для этого можно воспользоваться регулярным выражением, которое считает разделителем любой символ, не являющийся буквой: re.split('[^a-z]', t). Не забудьте удалить пустые слова после разделения.\n",
    "    Составьте список всех слов, встречающихся в предложениях. Сопоставьте каждому слову индекс от нуля до (d - 1), где d — число различных слов в предложениях. Для этого удобно воспользоваться структурой dict.\n",
    "    Создайте матрицу размера n * d, где n — число предложений. Заполните ее: элемент с индексом (i, j) в этой матрице должен быть равен количеству вхождений j-го слова в i-е предложение. У вас должна получиться матрица размера 22 * 254.\n",
    "    Найдите косинусное расстояние от предложения в самой первой строке (In comparison to dogs, cats have not undergone...) до всех остальных с помощью функции scipy.spatial.distance.cosine. Какие номера у двух предложений, ближайших к нему по этому расстоянию (строки нумеруются с нуля)? Эти два числа и будут ответами на задание.\n",
    "    Запишите полученные числа в файл, разделив пробелом. Обратите внимание, что файл должен состоять из одной строки, в конце которой не должно быть переноса. Пример файла с решением вы можете найти в конце задания (submission-1.txt).\n",
    "    Совпадают ли ближайшие два предложения по тематике с первым? Совпадают ли тематики у следующих по близости предложений?\n",
    "\n",
    "Разумеется, использованный вами метод крайне простой. Например, он не учитывает формы слов (так, cat и cats он считает разными словами, хотя по сути они означают одно и то же), не удаляет из текстов артикли и прочие ненужные слова. Позже мы будем подробно изучать анализ текстов, где выясним, как достичь высокого качества в задаче поиска похожих предложений."
   ]
  },
  {
   "cell_type": "code",
   "execution_count": 12,
   "metadata": {
    "collapsed": false
   },
   "outputs": [
    {
     "name": "stdout",
     "output_type": "stream",
     "text": [
      "6 4\n"
     ]
    }
   ],
   "source": [
    "import scipy.spatial\n",
    "import numpy as np\n",
    "import re\n",
    "\n",
    "with open(\"sentences\", \"r\") as file:\n",
    "    sentences = file.readlines()\n",
    "\n",
    "i = 0\n",
    "for sentence in sentences:\n",
    "    sentence = re.split('[^a-z]', sentence.lower())\n",
    "    \n",
    "    # Rewrite sentence with removed empty strings '' after splitting\n",
    "    sentences[i] = filter(None, sentence)\n",
    "    i += 1\n",
    "\n",
    "word_index = dict()\n",
    "i = 0\n",
    "for sentence in sentences:\n",
    "    for word in sentence:\n",
    "        if word not in word_index:\n",
    "            word_index[word] = i\n",
    "            i += 1\n",
    "\n",
    "matrix = []\n",
    "for sent_i in xrange(0, len(sentences)):\n",
    "    matrix.append([0 for x in word_index])\n",
    "    \n",
    "    for word in sentences[sent_i]:\n",
    "        word_i = word_index[word]\n",
    "        matrix[sent_i][word_i] += 1\n",
    "\n",
    "np_matrix = np.array(matrix)\n",
    "\n",
    "distances = list()\n",
    "for i in range(len(sentences)):\n",
    "    distance = scipy.spatial.distance.cosine(np_matrix[0], np_matrix[i])\n",
    "    distances.append((i, distance))\n",
    "\n",
    "sorted_list = sorted(distances, key=lambda tup: tup[1])\n",
    "\n",
    "print sorted_list[1][0], sorted_list[2][0]\n"
   ]
  },
  {
   "cell_type": "code",
   "execution_count": null,
   "metadata": {
    "collapsed": true
   },
   "outputs": [],
   "source": []
  }
 ],
 "metadata": {
  "kernelspec": {
   "display_name": "Python 2",
   "language": "python",
   "name": "python2"
  },
  "language_info": {
   "codemirror_mode": {
    "name": "ipython",
    "version": 2
   },
   "file_extension": ".py",
   "mimetype": "text/x-python",
   "name": "python",
   "nbconvert_exporter": "python",
   "pygments_lexer": "ipython2",
   "version": "2.7.11"
  }
 },
 "nbformat": 4,
 "nbformat_minor": 0
}
