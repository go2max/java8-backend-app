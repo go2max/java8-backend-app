{
 "cells": [
  {
   "cell_type": "markdown",
   "metadata": {},
   "source": [
    "# Курс по нейронным сетям\n",
    "### Первичный notebook, установка numpy, pandas и все такое"
   ]
  },
  {
   "cell_type": "markdown",
   "metadata": {
    "collapsed": true
   },
   "source": [
    "### Массивы в NumPy"
   ]
  },
  {
   "cell_type": "code",
   "execution_count": 1,
   "metadata": {
    "collapsed": false
   },
   "outputs": [
    {
     "name": "stdout",
     "output_type": "stream",
     "text": [
      "[[1 2 3]\n",
      " [4 5 6]]\n"
     ]
    }
   ],
   "source": [
    "import numpy as np\n",
    "a = np.array([[1,2,3], [4,5,6]])  # создаём массив\n",
    "print(a)  # смотрим на массив"
   ]
  },
  {
   "cell_type": "code",
   "execution_count": 2,
   "metadata": {
    "collapsed": false
   },
   "outputs": [
    {
     "data": {
      "text/plain": [
       "(2, 3)"
      ]
     },
     "execution_count": 2,
     "metadata": {},
     "output_type": "execute_result"
    }
   ],
   "source": [
    "a.shape  # смотрим на форму массива"
   ]
  },
  {
   "cell_type": "markdown",
   "metadata": {},
   "source": [
    "Для n-мерных массивов соответствующим образом определены основные арифметические и логические операции (+ - * / // % ** < <= == >= > != выполняются поэлементно, если вторым аргументом бинарной операции указано число (скаляр), то он преобразуется в массив той же формы, что и первый аргумент). Также для n-мерных массивов реализованы все основные методы, которые могут понадобиться при работе (дальше мы покажем те из них, которые будут особенно нужны при решении заданий курса)."
   ]
  },
  {
   "cell_type": "markdown",
   "metadata": {},
   "source": [
    "**Как создать массив:**\n",
    "\n",
    "**array(object)** — n-мерный массив из любой (возможно, вложенной) последовательности,<br>\n",
    "**eye(N, M=N, k=0)** -- двумерный массив с N строками с единицами на диагонали и нулями во всех остальных позициях. Число столбцов M по умолчанию равно N, k — сдвиг диагонали (0 для основной диагонали, положительные числа для верхних диагоналей и отрицательные для нижних),<br>\n",
    "**zeros(shape)** -- новый массив указанной формы, заполненный нулями,<br>\n",
    "**ones(shape)** -- новый массив указанной формы, заполненный единицами,<br>\n",
    "**full(shape, fill_value)** -- новый массив указанной формы, заполненный fill_value."
   ]
  },
  {
   "cell_type": "code",
   "execution_count": 3,
   "metadata": {
    "collapsed": false
   },
   "outputs": [
    {
     "name": "stdout",
     "output_type": "stream",
     "text": [
      "[[ 0.  0.  0.]\n",
      " [ 1.  0.  0.]\n",
      " [ 0.  1.  0.]\n",
      " [ 0.  0.  1.]\n",
      " [ 0.  0.  0.]]\n"
     ]
    }
   ],
   "source": [
    "print(np.eye(5, 3, k=-1))"
   ]
  },
  {
   "cell_type": "code",
   "execution_count": 4,
   "metadata": {
    "collapsed": false
   },
   "outputs": [
    {
     "name": "stdout",
     "output_type": "stream",
     "text": [
      "[[1 2 3]\n",
      " [4 5 6]]\n"
     ]
    }
   ],
   "source": [
    "print(np.array([[1,2,3], [4,5,6]])) # матрица формы (2, 3) из последовательности последовательностей"
   ]
  },
  {
   "cell_type": "markdown",
   "metadata": {},
   "source": [
    "**Как получить доступ к элементу массива или выбрать кусок массива:**\n",
    "\n",
    "* в NumPy используется стандартное  выделение подмножеств: **a[start:stop:step]** выбирает элементы из a с индексами от start до stop с шагом step, т.е. a[start], a[start + step], a[start + 2*step] и так далее, пока индексы меньше stop; при step = 1 этот параметр можно опустить, оставив start:stop, при start, равном минимальному индексу в массиве, или stop, равному максимальному индексу, эти индексы также можно опустить: это будет выглядеть как a[:];<br>\n",
    "* отрицательные индексы;<br>\n",
    "* поддерживается синтаксис многоточия: a[..., 1] выбирает элементы с любым индексом в первом измерении и с индексом, равным 1, во втором измерении:  a[:, 1] оказывается эквивалентно a[..., 1];<br>\n",
    "* можно указать индексы сразу в нескольких измерениях, указав их через запятую в квадратных скобках (как a[..., 1] в примере выше)."
   ]
  },
  {
   "cell_type": "markdown",
   "metadata": {},
   "source": [
    "### Создайте и напечатайте (с помощью функции print) массив класса np.ndarray ширины 4 и высоты 3 с двойками на главной диагонали и единицами на первой диагонали над главной"
   ]
  },
  {
   "cell_type": "code",
   "execution_count": 23,
   "metadata": {
    "collapsed": false
   },
   "outputs": [
    {
     "name": "stdout",
     "output_type": "stream",
     "text": [
      "[[ 2.  1.  0.  0.]\n",
      " [ 0.  2.  1.  0.]\n",
      " [ 0.  0.  2.  1.]]\n"
     ]
    }
   ],
   "source": [
    "massiv = np.eye(3, 4)*2 + np.eye(3,4,k=1)\n",
    "print(massiv)"
   ]
  },
  {
   "cell_type": "markdown",
   "metadata": {},
   "source": [
    "### Основные методы ndarray\n",
    "Для работы с многомерными массивами в NumPy реализованы самые часто требующиеся операции. Некоторые из них (которые особенно часто будут нужны в нашем курсе) мы сейчас покажем.\n",
    "\n",
    "**Форма массива**<br>\n",
    "* `a.flatten()` — превращает массив в одномерный.\n",
    "* `a.T` или `a.transpose(*axes)` — транспонирование (или смена порядка осей в случае, когда размерность массива больше двух).\n",
    "* `a.reshape(shape)` — смена формы массива. Массив \"распрямляется\" и построчно заполняется в новую форму."
   ]
  },
  {
   "cell_type": "code",
   "execution_count": 24,
   "metadata": {
    "collapsed": false
   },
   "outputs": [
    {
     "name": "stdout",
     "output_type": "stream",
     "text": [
      "[[[338 433 979]\n",
      "  [195 594 377]]\n",
      "\n",
      " [[857 898 116]\n",
      "  [ 66  56 579]]]\n"
     ]
    }
   ],
   "source": [
    "import random\n",
    "w = np.array(random.sample(range(1000), 12)) # одномерный массив из 12 случайных чисел от 1 до 1000\n",
    "w = w.reshape((2,2,3)) # превратим w в трёхмерную матрицу\n",
    "print(w)"
   ]
  },
  {
   "cell_type": "code",
   "execution_count": 25,
   "metadata": {
    "collapsed": false
   },
   "outputs": [
    {
     "name": "stdout",
     "output_type": "stream",
     "text": [
      "[[[338 195]\n",
      "  [433 594]\n",
      "  [979 377]]\n",
      "\n",
      " [[857  66]\n",
      "  [898  56]\n",
      "  [116 579]]]\n"
     ]
    }
   ],
   "source": [
    "print(w.transpose(0,2,1))"
   ]
  },
  {
   "cell_type": "markdown",
   "metadata": {},
   "source": [
    "### Массив, который нужно было создать в предыдущей задаче, хранится в переменной mat. Превратите его в вертикальный вектор и напечатайте."
   ]
  },
  {
   "cell_type": "code",
   "execution_count": 27,
   "metadata": {
    "collapsed": false
   },
   "outputs": [
    {
     "name": "stdout",
     "output_type": "stream",
     "text": [
      "[[ 2.]\n",
      " [ 1.]\n",
      " [ 0.]\n",
      " [ 0.]\n",
      " [ 0.]\n",
      " [ 2.]\n",
      " [ 1.]\n",
      " [ 0.]\n",
      " [ 0.]\n",
      " [ 0.]\n",
      " [ 2.]\n",
      " [ 1.]]\n"
     ]
    }
   ],
   "source": [
    "mat = np.eye(3, 4)*2 + np.eye(3,4,k=1)\n",
    "mat_flat = mat.reshape(12,1)\n",
    "print(mat_flat)"
   ]
  },
  {
   "cell_type": "markdown",
   "metadata": {},
   "source": [
    "### Основные методы ndarray\n",
    "**Базовые статистики** <br>\n",
    "* `a.min(axis=None)`, `a.max(axis=None)`, `a.mean(axis=None)`, `a.std(axis=None)` — минимум, максимум, среднее арифметическое и стандартное отклонение вдоль указанной оси. По умолчанию ось не указана и статистика считается по всему массиву. `a.argmin(axis=None)`, `a.argmax(axis=None)` — индексы минимального и максимального элемента. Пример:"
   ]
  },
  {
   "cell_type": "code",
   "execution_count": 29,
   "metadata": {
    "collapsed": false
   },
   "outputs": [
    {
     "name": "stdout",
     "output_type": "stream",
     "text": [
      "[[ 2.  1.  0.  0.]\n",
      " [ 0.  2.  1.  0.]\n",
      " [ 0.  0.  2.  1.]]\n"
     ]
    }
   ],
   "source": [
    "print(mat)"
   ]
  },
  {
   "cell_type": "code",
   "execution_count": 31,
   "metadata": {
    "collapsed": false
   },
   "outputs": [
    {
     "name": "stdout",
     "output_type": "stream",
     "text": [
      "[ 0.66666667  1.          1.          0.33333333]\n"
     ]
    }
   ],
   "source": [
    "print(mat.mean(axis=0))  # вдоль столбцов"
   ]
  },
  {
   "cell_type": "code",
   "execution_count": 33,
   "metadata": {
    "collapsed": false
   },
   "outputs": [
    {
     "name": "stdout",
     "output_type": "stream",
     "text": [
      "[ 0.75  0.75  0.75]\n"
     ]
    }
   ],
   "source": [
    "print(mat.mean(axis=1))  # вдоль строк"
   ]
  },
  {
   "cell_type": "code",
   "execution_count": 35,
   "metadata": {
    "collapsed": false
   },
   "outputs": [
    {
     "name": "stdout",
     "output_type": "stream",
     "text": [
      "0.75\n"
     ]
    }
   ],
   "source": [
    "print(mat.mean(axis=None))  # вдоль всего массива"
   ]
  },
  {
   "cell_type": "markdown",
   "metadata": {},
   "source": [
    "Чтобы лучше понять, почему говорят «усреднение вдоль оси» — можно нарисовать эту матрицу на бумажке и прямыми линиями соединить те элементы, которые сливаются в один при усреднении. Чтобы было совсем понятно — можно ещё добавить координатные оси, чтобы каждый элемент wijwij оказался над точкой (i,j).\n",
    "* `a.sum(axis=None)`, `a.prod(axis=None)` — сумма и произведение всех элементов вдоль указанной оси. `a.cumsum(axis=None)`, `a.cumprod(axis=None)` — частичные суммы и произведения (для (a1,⋯,an) вектор частичных сумм — это (a1,a1+a2,⋯,a1+⋯+an)(a1,a1+a2,⋯,a1+⋯+an))."
   ]
  },
  {
   "cell_type": "markdown",
   "metadata": {},
   "source": [
    "### Линейная алгебра\n",
    "Пакет numpy.linalg содержит большую часть стандартных операций и разложений матриц. Некоторые самые популярные функции вынесены в корень пакета NumPy.\n",
    "* a.dot(b) — матричное произведение двух массивов (размерности должны быть согласованы)\n",
    "* linalg.matrix_power(M, n) — возведение матрицы M в степень n\n",
    "* a.T — транспонирование\n",
    "* linalg.norm(a, ord=None) — норма матрицы a, по умолчанию норма Фробениуса для матриц и L2-норма для векторов; подробное описание возможных норм — в [справке](http://docs.scipy.org/doc/numpy/reference/generated/numpy.linalg.norm.html#numpy.linalg.norm/)\n",
    "* linalg.inv(a) — матрица, обратная к a (если a необратима, выбрасывается LinAlgError; псевдообратная считается через linalg.pinv(a))"
   ]
  },
  {
   "cell_type": "code",
   "execution_count": 36,
   "metadata": {
    "collapsed": false
   },
   "outputs": [
    {
     "name": "stdout",
     "output_type": "stream",
     "text": [
      "[[4141 2514]\n",
      " [3001 1915]]\n"
     ]
    }
   ],
   "source": [
    "a = w.dot([1,2,3])\n",
    "print(a)"
   ]
  },
  {
   "cell_type": "code",
   "execution_count": 37,
   "metadata": {
    "collapsed": false
   },
   "outputs": [
    {
     "name": "stdout",
     "output_type": "stream",
     "text": [
      "[[  1.00000000e+00   0.00000000e+00]\n",
      " [ -1.77635684e-15   1.00000000e+00]]\n"
     ]
    }
   ],
   "source": [
    "ainv = np.linalg.inv(a)\n",
    "print(a.dot(ainv))"
   ]
  },
  {
   "cell_type": "markdown",
   "metadata": {},
   "source": [
    "Подробные описания с указанием полного списка аргументов, а также описания всех остальных функций находятся на сайте проекта [NumPy](http://docs.scipy.org/doc/numpy/reference/index.html/)."
   ]
  },
  {
   "cell_type": "markdown",
   "metadata": {},
   "source": [
    "### Перемножение матриц\n",
    "На вход программе подаются две матрицы, каждая в следующем формате: на первой строке два целых положительных числа $n$ и $m$, разделенных пробелом - размерность матрицы. В следующей строке находится $n*m$ целых чисел, разделенных пробелами - элементы матрицы. Подразумевается, что матрица заполняется построчно, то есть первые m чисел - первый ряд матрицы, числа от $m+1$ до $2*m$ - второй, и т.д.<br>\n",
    "Напечатайте произведение матриц $XY^T$, если они имеют подходящую форму, или строку \"matrix shapes do not match\", если формы матриц не совпадают должным образом. "
   ]
  },
  {
   "cell_type": "markdown",
   "metadata": {},
   "source": [
    "* `map(f, iterable, …)` — встроенная функция языка Python, возвращает результат поэлементного применения функции f к элементам последовательности `iterable`; если f принимает несколько аргументов, то на вход должно быть подано соответствующее число последовательностей: результатом `map(f, x, y, z)` будет итератор, возвращающий поочерёдно `f(x[0], y[0], z[0]), f(x[1], y[1], z[1]), f(x[2], y[2], z[2])` и так далее; результат применения f к очередному набору аргументов вычисляется только тогда, когда требуется использовать этот результат, но не ранее, подробнее и короче в справке;\n",
    "* `np.fromiter` создаёт NumPy-массив из итератора, то есть заставляет итератор вычислить все доступные значения и сохраняет их в массив;"
   ]
  },
  {
   "cell_type": "code",
   "execution_count": 39,
   "metadata": {
    "collapsed": false
   },
   "outputs": [
    {
     "name": "stdout",
     "output_type": "stream",
     "text": [
      "2 3\n",
      "5 9 9 10 8 9\n",
      "3 4\n",
      "6 11 3 5 4 5 3 2 5 8 2 2\n",
      "matrix shapes do not match\n"
     ]
    }
   ],
   "source": [
    "x_shape = tuple(map(int, input().split()))\n",
    "X = np.fromiter(map(int, input().split()), np.int).reshape(x_shape)\n",
    "y_shape = tuple(map(int, input().split()))\n",
    "Y = np.fromiter(map(int,input().split()), np.int).reshape(y_shape)\n",
    "\n",
    "try:\n",
    "    C = X.dot(Y.T)\n",
    "    print(C)\n",
    "except ValueError:\n",
    "    print(\"matrix shapes do not match\")"
   ]
  },
  {
   "cell_type": "markdown",
   "metadata": {},
   "source": [
    "### Как считать данные из файла\n",
    "```python\n",
    ">>> sbux = np.loadtxt(\"sbux.csv\", usecols=(0,1,4), skiprows=1, delimiter=\",\", \n",
    "                      dtype={'names': ('date', 'open', 'close'),\n",
    "                             'formats': ('datetime64[D]', 'f4', 'f4')})\n",
    ">>> print(sbux[0:4])\n",
    "[(datetime.date(2015, 9, 1), 53.0, 57.2599983215332)\n",
    " (datetime.date(2015, 8, 3), 58.619998931884766, 54.709999084472656)\n",
    " (datetime.date(2015, 7, 1), 53.86000061035156, 57.93000030517578)\n",
    " (datetime.date(2015, 6, 1), 51.959999084472656, 53.619998931884766)]\n",
    "```\n",
    "`\"sbux.csv\"` — имя файла (или сюда же можно передать объект файла, такой пример вы увидите в следующей задаче урока), из которого считываются данные.<br>\n",
    "`usecols` — список колонок, которые нужно использовать. Если параметр не указан, считываются все колонки.<br>\n",
    "`skiprows` — количество рядов в начале файла, которые нужно пропустить. В нашем случае пропущен ряд заголовков. По умолчанию (если значение параметра не указано явно) skiprows = 0.<br>\n",
    "`delimiter` — разделитель столбцов в одной строке, в csv-файлах это запятая, по умолчанию разделителем является любой пробел (в том числе — знак табуляции).<br>\n",
    "`dtype` — словарь из названий колонок (переменных) и типов хранящихся в них значений. NumPy использует свою собственную систему типов, и названия именно этих типов нужно указать. По умолчанию функция попытается самостоятельно угадать, какому типу принадлежат подаваемые на вход значения."
   ]
  },
  {
   "cell_type": "markdown",
   "metadata": {},
   "source": [
    "**Задача: считайте данные из файла и посчитайте их средние значения.**\n",
    "На вход вашему решению будет подан адрес, по которому расположен csv-файл, из которого нужно считать данные. Первая строчка в файле — названия столбцов, остальные строки — числовые данные (то есть каждая строка, кроме первой, состоит из последовательности вещественных чисел, разделённых запятыми).\n",
    "\n",
    "Посчитайте и напечатайте вектор из средних значений вдоль столбцов входных данных."
   ]
  },
  {
   "cell_type": "code",
   "execution_count": 51,
   "metadata": {
    "collapsed": false
   },
   "outputs": [
    {
     "name": "stdout",
     "output_type": "stream",
     "text": [
      "[ 22.53280632   3.61352356  11.36363636   0.06916996   0.55469506\n",
      "   6.28463439   3.79504269]\n"
     ]
    }
   ],
   "source": [
    "from urllib.request import urlopen\n",
    "f = urlopen('https://stepic.org/media/attachments/lesson/16462/boston_houses.csv')\n",
    "#Теперь в f содержится объект файла, который можно передать в loadtxt.\n",
    "dataset = np.loadtxt(f, skiprows=1, delimiter=',')\n",
    "#Теперь расчеты\n",
    "col_means = dataset.mean(axis=0)  # вдоль столбцов\n",
    "print(col_means)"
   ]
  },
  {
   "cell_type": "code",
   "execution_count": 50,
   "metadata": {
    "collapsed": false
   },
   "outputs": [
    {
     "data": {
      "text/plain": [
       "21.600000000000001"
      ]
     },
     "execution_count": 50,
     "metadata": {},
     "output_type": "execute_result"
    }
   ],
   "source": [
    "dataset[1][0]"
   ]
  },
  {
   "cell_type": "code",
   "execution_count": null,
   "metadata": {
    "collapsed": true
   },
   "outputs": [],
   "source": []
  }
 ],
 "metadata": {
  "kernelspec": {
   "display_name": "Python 3",
   "language": "python",
   "name": "python3"
  },
  "language_info": {
   "codemirror_mode": {
    "name": "ipython",
    "version": 3
   },
   "file_extension": ".py",
   "mimetype": "text/x-python",
   "name": "python",
   "nbconvert_exporter": "python",
   "pygments_lexer": "ipython3",
   "version": "3.5.1"
  }
 },
 "nbformat": 4,
 "nbformat_minor": 0
}
